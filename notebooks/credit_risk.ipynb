{
  "cells": [
    {
      "cell_type": "markdown",
      "metadata": {
        "_cell_guid": "551ce207-0976-48c3-9242-fac3e6bdf527",
        "_uuid": "66406036d8dd7a0071295d1aee64f13bffc44e3a",
        "id": "WwU__sF5Zt0N"
      },
      "source": [
        "# Home Credit Default Risk  \n",
        "\n",
        " \n",
        "L'objectif est d'utiliser les données historiques des demandes de prêt pour prédire si un demandeur sera en mesure ou non de rembourser un prêt. Il s'agit d'une tâche de classification supervisée.\n",
        "\n",
        "* Un point sur les données :\n",
        "\n",
        "Elles contiennet des informations sur chaque demande de prêt. Chaque prêt a sa propre ligne et est identifié par la caractéristique `SK_ID_CURR`. Si la caractéristique `TARGET` indique 0 : le prêt a été remboursé si elle indique 1 : le prêt n'a pas été remboursé.  \n",
        " "
      ]
    },
    {
      "cell_type": "code",
      "execution_count": 195,
      "metadata": {
        "_cell_guid": "b1076dfc-b9ad-4769-8c92-a6c4dae69d19",
        "_uuid": "8f2839f25d086af736a60e9eeb907d3b93b6e0e5",
        "id": "Ozl1u3G6Zt0T"
      },
      "outputs": [],
      "source": [
        "import numpy as np\n",
        "import pandas as pd \n",
        "from sklearn.preprocessing import LabelEncoder\n",
        "import matplotlib.pyplot as plt\n",
        "import seaborn as sns\n",
        "import os\n",
        "import warnings\n",
        "warnings.filterwarnings('ignore')"
      ]
    },
    {
      "cell_type": "code",
      "execution_count": 196,
      "metadata": {
        "_cell_guid": "79c7e3d0-c299-4dcb-8224-4455121ee9b0",
        "_uuid": "d629ff2d2480ee46fbb7e2d37f6b5fab8052498a",
        "id": "6rmCBrdbZt0T",
        "outputId": "5ebe0d1e-6fa1-42c4-f28d-9781e3699a04"
      },
      "outputs": [
        {
          "name": "stdout",
          "output_type": "stream",
          "text": [
            "(307511, 122)\n"
          ]
        },
        {
          "data": {
            "text/html": [
              "<div>\n",
              "<style scoped>\n",
              "    .dataframe tbody tr th:only-of-type {\n",
              "        vertical-align: middle;\n",
              "    }\n",
              "\n",
              "    .dataframe tbody tr th {\n",
              "        vertical-align: top;\n",
              "    }\n",
              "\n",
              "    .dataframe thead th {\n",
              "        text-align: right;\n",
              "    }\n",
              "</style>\n",
              "<table border=\"1\" class=\"dataframe\">\n",
              "  <thead>\n",
              "    <tr style=\"text-align: right;\">\n",
              "      <th></th>\n",
              "      <th>SK_ID_CURR</th>\n",
              "      <th>TARGET</th>\n",
              "      <th>NAME_CONTRACT_TYPE</th>\n",
              "      <th>CODE_GENDER</th>\n",
              "      <th>FLAG_OWN_CAR</th>\n",
              "      <th>FLAG_OWN_REALTY</th>\n",
              "      <th>CNT_CHILDREN</th>\n",
              "      <th>AMT_INCOME_TOTAL</th>\n",
              "      <th>AMT_CREDIT</th>\n",
              "      <th>AMT_ANNUITY</th>\n",
              "      <th>...</th>\n",
              "      <th>FLAG_DOCUMENT_18</th>\n",
              "      <th>FLAG_DOCUMENT_19</th>\n",
              "      <th>FLAG_DOCUMENT_20</th>\n",
              "      <th>FLAG_DOCUMENT_21</th>\n",
              "      <th>AMT_REQ_CREDIT_BUREAU_HOUR</th>\n",
              "      <th>AMT_REQ_CREDIT_BUREAU_DAY</th>\n",
              "      <th>AMT_REQ_CREDIT_BUREAU_WEEK</th>\n",
              "      <th>AMT_REQ_CREDIT_BUREAU_MON</th>\n",
              "      <th>AMT_REQ_CREDIT_BUREAU_QRT</th>\n",
              "      <th>AMT_REQ_CREDIT_BUREAU_YEAR</th>\n",
              "    </tr>\n",
              "  </thead>\n",
              "  <tbody>\n",
              "    <tr>\n",
              "      <th>0</th>\n",
              "      <td>100002</td>\n",
              "      <td>1</td>\n",
              "      <td>Cash loans</td>\n",
              "      <td>M</td>\n",
              "      <td>N</td>\n",
              "      <td>Y</td>\n",
              "      <td>0</td>\n",
              "      <td>202500.0</td>\n",
              "      <td>406597.5</td>\n",
              "      <td>24700.5</td>\n",
              "      <td>...</td>\n",
              "      <td>0</td>\n",
              "      <td>0</td>\n",
              "      <td>0</td>\n",
              "      <td>0</td>\n",
              "      <td>0.0</td>\n",
              "      <td>0.0</td>\n",
              "      <td>0.0</td>\n",
              "      <td>0.0</td>\n",
              "      <td>0.0</td>\n",
              "      <td>1.0</td>\n",
              "    </tr>\n",
              "    <tr>\n",
              "      <th>1</th>\n",
              "      <td>100003</td>\n",
              "      <td>0</td>\n",
              "      <td>Cash loans</td>\n",
              "      <td>F</td>\n",
              "      <td>N</td>\n",
              "      <td>N</td>\n",
              "      <td>0</td>\n",
              "      <td>270000.0</td>\n",
              "      <td>1293502.5</td>\n",
              "      <td>35698.5</td>\n",
              "      <td>...</td>\n",
              "      <td>0</td>\n",
              "      <td>0</td>\n",
              "      <td>0</td>\n",
              "      <td>0</td>\n",
              "      <td>0.0</td>\n",
              "      <td>0.0</td>\n",
              "      <td>0.0</td>\n",
              "      <td>0.0</td>\n",
              "      <td>0.0</td>\n",
              "      <td>0.0</td>\n",
              "    </tr>\n",
              "    <tr>\n",
              "      <th>2</th>\n",
              "      <td>100004</td>\n",
              "      <td>0</td>\n",
              "      <td>Revolving loans</td>\n",
              "      <td>M</td>\n",
              "      <td>Y</td>\n",
              "      <td>Y</td>\n",
              "      <td>0</td>\n",
              "      <td>67500.0</td>\n",
              "      <td>135000.0</td>\n",
              "      <td>6750.0</td>\n",
              "      <td>...</td>\n",
              "      <td>0</td>\n",
              "      <td>0</td>\n",
              "      <td>0</td>\n",
              "      <td>0</td>\n",
              "      <td>0.0</td>\n",
              "      <td>0.0</td>\n",
              "      <td>0.0</td>\n",
              "      <td>0.0</td>\n",
              "      <td>0.0</td>\n",
              "      <td>0.0</td>\n",
              "    </tr>\n",
              "    <tr>\n",
              "      <th>3</th>\n",
              "      <td>100006</td>\n",
              "      <td>0</td>\n",
              "      <td>Cash loans</td>\n",
              "      <td>F</td>\n",
              "      <td>N</td>\n",
              "      <td>Y</td>\n",
              "      <td>0</td>\n",
              "      <td>135000.0</td>\n",
              "      <td>312682.5</td>\n",
              "      <td>29686.5</td>\n",
              "      <td>...</td>\n",
              "      <td>0</td>\n",
              "      <td>0</td>\n",
              "      <td>0</td>\n",
              "      <td>0</td>\n",
              "      <td>NaN</td>\n",
              "      <td>NaN</td>\n",
              "      <td>NaN</td>\n",
              "      <td>NaN</td>\n",
              "      <td>NaN</td>\n",
              "      <td>NaN</td>\n",
              "    </tr>\n",
              "    <tr>\n",
              "      <th>4</th>\n",
              "      <td>100007</td>\n",
              "      <td>0</td>\n",
              "      <td>Cash loans</td>\n",
              "      <td>M</td>\n",
              "      <td>N</td>\n",
              "      <td>Y</td>\n",
              "      <td>0</td>\n",
              "      <td>121500.0</td>\n",
              "      <td>513000.0</td>\n",
              "      <td>21865.5</td>\n",
              "      <td>...</td>\n",
              "      <td>0</td>\n",
              "      <td>0</td>\n",
              "      <td>0</td>\n",
              "      <td>0</td>\n",
              "      <td>0.0</td>\n",
              "      <td>0.0</td>\n",
              "      <td>0.0</td>\n",
              "      <td>0.0</td>\n",
              "      <td>0.0</td>\n",
              "      <td>0.0</td>\n",
              "    </tr>\n",
              "  </tbody>\n",
              "</table>\n",
              "<p>5 rows × 122 columns</p>\n",
              "</div>"
            ],
            "text/plain": [
              "   SK_ID_CURR  TARGET NAME_CONTRACT_TYPE CODE_GENDER FLAG_OWN_CAR  \\\n",
              "0      100002       1         Cash loans           M            N   \n",
              "1      100003       0         Cash loans           F            N   \n",
              "2      100004       0    Revolving loans           M            Y   \n",
              "3      100006       0         Cash loans           F            N   \n",
              "4      100007       0         Cash loans           M            N   \n",
              "\n",
              "  FLAG_OWN_REALTY  CNT_CHILDREN  AMT_INCOME_TOTAL  AMT_CREDIT  AMT_ANNUITY  \\\n",
              "0               Y             0          202500.0    406597.5      24700.5   \n",
              "1               N             0          270000.0   1293502.5      35698.5   \n",
              "2               Y             0           67500.0    135000.0       6750.0   \n",
              "3               Y             0          135000.0    312682.5      29686.5   \n",
              "4               Y             0          121500.0    513000.0      21865.5   \n",
              "\n",
              "   ...  FLAG_DOCUMENT_18 FLAG_DOCUMENT_19 FLAG_DOCUMENT_20 FLAG_DOCUMENT_21  \\\n",
              "0  ...                 0                0                0                0   \n",
              "1  ...                 0                0                0                0   \n",
              "2  ...                 0                0                0                0   \n",
              "3  ...                 0                0                0                0   \n",
              "4  ...                 0                0                0                0   \n",
              "\n",
              "  AMT_REQ_CREDIT_BUREAU_HOUR AMT_REQ_CREDIT_BUREAU_DAY  \\\n",
              "0                        0.0                       0.0   \n",
              "1                        0.0                       0.0   \n",
              "2                        0.0                       0.0   \n",
              "3                        NaN                       NaN   \n",
              "4                        0.0                       0.0   \n",
              "\n",
              "   AMT_REQ_CREDIT_BUREAU_WEEK  AMT_REQ_CREDIT_BUREAU_MON  \\\n",
              "0                         0.0                        0.0   \n",
              "1                         0.0                        0.0   \n",
              "2                         0.0                        0.0   \n",
              "3                         NaN                        NaN   \n",
              "4                         0.0                        0.0   \n",
              "\n",
              "   AMT_REQ_CREDIT_BUREAU_QRT  AMT_REQ_CREDIT_BUREAU_YEAR  \n",
              "0                        0.0                         1.0  \n",
              "1                        0.0                         0.0  \n",
              "2                        0.0                         0.0  \n",
              "3                        NaN                         NaN  \n",
              "4                        0.0                         0.0  \n",
              "\n",
              "[5 rows x 122 columns]"
            ]
          },
          "execution_count": 196,
          "metadata": {},
          "output_type": "execute_result"
        }
      ],
      "source": [
        "# get data\n",
        "train = pd.read_csv('..\\\\data\\\\application_train.csv')\n",
        "test = pd.read_csv('..\\\\data\\\\application_test.csv')\n",
        "\n",
        "print(train.shape)\n",
        "train.head()"
      ]
    },
    {
      "cell_type": "code",
      "execution_count": 197,
      "metadata": {
        "_cell_guid": "d077aee0-5271-440e-bc07-6087eab40b74",
        "_uuid": "cbd1c4111df6f07bc0d479b51f50895e728b717a",
        "id": "S1mtbW8dZt0U",
        "outputId": "4d7bfc02-171a-47c8-fde2-21a7364d8eb7"
      },
      "outputs": [
        {
          "name": "stdout",
          "output_type": "stream",
          "text": [
            "(48744, 121)\n"
          ]
        },
        {
          "data": {
            "text/html": [
              "<div>\n",
              "<style scoped>\n",
              "    .dataframe tbody tr th:only-of-type {\n",
              "        vertical-align: middle;\n",
              "    }\n",
              "\n",
              "    .dataframe tbody tr th {\n",
              "        vertical-align: top;\n",
              "    }\n",
              "\n",
              "    .dataframe thead th {\n",
              "        text-align: right;\n",
              "    }\n",
              "</style>\n",
              "<table border=\"1\" class=\"dataframe\">\n",
              "  <thead>\n",
              "    <tr style=\"text-align: right;\">\n",
              "      <th></th>\n",
              "      <th>SK_ID_CURR</th>\n",
              "      <th>NAME_CONTRACT_TYPE</th>\n",
              "      <th>CODE_GENDER</th>\n",
              "      <th>FLAG_OWN_CAR</th>\n",
              "      <th>FLAG_OWN_REALTY</th>\n",
              "      <th>CNT_CHILDREN</th>\n",
              "      <th>AMT_INCOME_TOTAL</th>\n",
              "      <th>AMT_CREDIT</th>\n",
              "      <th>AMT_ANNUITY</th>\n",
              "      <th>AMT_GOODS_PRICE</th>\n",
              "      <th>...</th>\n",
              "      <th>FLAG_DOCUMENT_18</th>\n",
              "      <th>FLAG_DOCUMENT_19</th>\n",
              "      <th>FLAG_DOCUMENT_20</th>\n",
              "      <th>FLAG_DOCUMENT_21</th>\n",
              "      <th>AMT_REQ_CREDIT_BUREAU_HOUR</th>\n",
              "      <th>AMT_REQ_CREDIT_BUREAU_DAY</th>\n",
              "      <th>AMT_REQ_CREDIT_BUREAU_WEEK</th>\n",
              "      <th>AMT_REQ_CREDIT_BUREAU_MON</th>\n",
              "      <th>AMT_REQ_CREDIT_BUREAU_QRT</th>\n",
              "      <th>AMT_REQ_CREDIT_BUREAU_YEAR</th>\n",
              "    </tr>\n",
              "  </thead>\n",
              "  <tbody>\n",
              "    <tr>\n",
              "      <th>0</th>\n",
              "      <td>100001</td>\n",
              "      <td>Cash loans</td>\n",
              "      <td>F</td>\n",
              "      <td>N</td>\n",
              "      <td>Y</td>\n",
              "      <td>0</td>\n",
              "      <td>135000.0</td>\n",
              "      <td>568800.0</td>\n",
              "      <td>20560.5</td>\n",
              "      <td>450000.0</td>\n",
              "      <td>...</td>\n",
              "      <td>0</td>\n",
              "      <td>0</td>\n",
              "      <td>0</td>\n",
              "      <td>0</td>\n",
              "      <td>0.0</td>\n",
              "      <td>0.0</td>\n",
              "      <td>0.0</td>\n",
              "      <td>0.0</td>\n",
              "      <td>0.0</td>\n",
              "      <td>0.0</td>\n",
              "    </tr>\n",
              "    <tr>\n",
              "      <th>1</th>\n",
              "      <td>100005</td>\n",
              "      <td>Cash loans</td>\n",
              "      <td>M</td>\n",
              "      <td>N</td>\n",
              "      <td>Y</td>\n",
              "      <td>0</td>\n",
              "      <td>99000.0</td>\n",
              "      <td>222768.0</td>\n",
              "      <td>17370.0</td>\n",
              "      <td>180000.0</td>\n",
              "      <td>...</td>\n",
              "      <td>0</td>\n",
              "      <td>0</td>\n",
              "      <td>0</td>\n",
              "      <td>0</td>\n",
              "      <td>0.0</td>\n",
              "      <td>0.0</td>\n",
              "      <td>0.0</td>\n",
              "      <td>0.0</td>\n",
              "      <td>0.0</td>\n",
              "      <td>3.0</td>\n",
              "    </tr>\n",
              "    <tr>\n",
              "      <th>2</th>\n",
              "      <td>100013</td>\n",
              "      <td>Cash loans</td>\n",
              "      <td>M</td>\n",
              "      <td>Y</td>\n",
              "      <td>Y</td>\n",
              "      <td>0</td>\n",
              "      <td>202500.0</td>\n",
              "      <td>663264.0</td>\n",
              "      <td>69777.0</td>\n",
              "      <td>630000.0</td>\n",
              "      <td>...</td>\n",
              "      <td>0</td>\n",
              "      <td>0</td>\n",
              "      <td>0</td>\n",
              "      <td>0</td>\n",
              "      <td>0.0</td>\n",
              "      <td>0.0</td>\n",
              "      <td>0.0</td>\n",
              "      <td>0.0</td>\n",
              "      <td>1.0</td>\n",
              "      <td>4.0</td>\n",
              "    </tr>\n",
              "    <tr>\n",
              "      <th>3</th>\n",
              "      <td>100028</td>\n",
              "      <td>Cash loans</td>\n",
              "      <td>F</td>\n",
              "      <td>N</td>\n",
              "      <td>Y</td>\n",
              "      <td>2</td>\n",
              "      <td>315000.0</td>\n",
              "      <td>1575000.0</td>\n",
              "      <td>49018.5</td>\n",
              "      <td>1575000.0</td>\n",
              "      <td>...</td>\n",
              "      <td>0</td>\n",
              "      <td>0</td>\n",
              "      <td>0</td>\n",
              "      <td>0</td>\n",
              "      <td>0.0</td>\n",
              "      <td>0.0</td>\n",
              "      <td>0.0</td>\n",
              "      <td>0.0</td>\n",
              "      <td>0.0</td>\n",
              "      <td>3.0</td>\n",
              "    </tr>\n",
              "    <tr>\n",
              "      <th>4</th>\n",
              "      <td>100038</td>\n",
              "      <td>Cash loans</td>\n",
              "      <td>M</td>\n",
              "      <td>Y</td>\n",
              "      <td>N</td>\n",
              "      <td>1</td>\n",
              "      <td>180000.0</td>\n",
              "      <td>625500.0</td>\n",
              "      <td>32067.0</td>\n",
              "      <td>625500.0</td>\n",
              "      <td>...</td>\n",
              "      <td>0</td>\n",
              "      <td>0</td>\n",
              "      <td>0</td>\n",
              "      <td>0</td>\n",
              "      <td>NaN</td>\n",
              "      <td>NaN</td>\n",
              "      <td>NaN</td>\n",
              "      <td>NaN</td>\n",
              "      <td>NaN</td>\n",
              "      <td>NaN</td>\n",
              "    </tr>\n",
              "  </tbody>\n",
              "</table>\n",
              "<p>5 rows × 121 columns</p>\n",
              "</div>"
            ],
            "text/plain": [
              "   SK_ID_CURR NAME_CONTRACT_TYPE CODE_GENDER FLAG_OWN_CAR FLAG_OWN_REALTY  \\\n",
              "0      100001         Cash loans           F            N               Y   \n",
              "1      100005         Cash loans           M            N               Y   \n",
              "2      100013         Cash loans           M            Y               Y   \n",
              "3      100028         Cash loans           F            N               Y   \n",
              "4      100038         Cash loans           M            Y               N   \n",
              "\n",
              "   CNT_CHILDREN  AMT_INCOME_TOTAL  AMT_CREDIT  AMT_ANNUITY  AMT_GOODS_PRICE  \\\n",
              "0             0          135000.0    568800.0      20560.5         450000.0   \n",
              "1             0           99000.0    222768.0      17370.0         180000.0   \n",
              "2             0          202500.0    663264.0      69777.0         630000.0   \n",
              "3             2          315000.0   1575000.0      49018.5        1575000.0   \n",
              "4             1          180000.0    625500.0      32067.0         625500.0   \n",
              "\n",
              "   ... FLAG_DOCUMENT_18 FLAG_DOCUMENT_19 FLAG_DOCUMENT_20 FLAG_DOCUMENT_21  \\\n",
              "0  ...                0                0                0                0   \n",
              "1  ...                0                0                0                0   \n",
              "2  ...                0                0                0                0   \n",
              "3  ...                0                0                0                0   \n",
              "4  ...                0                0                0                0   \n",
              "\n",
              "  AMT_REQ_CREDIT_BUREAU_HOUR  AMT_REQ_CREDIT_BUREAU_DAY  \\\n",
              "0                        0.0                        0.0   \n",
              "1                        0.0                        0.0   \n",
              "2                        0.0                        0.0   \n",
              "3                        0.0                        0.0   \n",
              "4                        NaN                        NaN   \n",
              "\n",
              "   AMT_REQ_CREDIT_BUREAU_WEEK  AMT_REQ_CREDIT_BUREAU_MON  \\\n",
              "0                         0.0                        0.0   \n",
              "1                         0.0                        0.0   \n",
              "2                         0.0                        0.0   \n",
              "3                         0.0                        0.0   \n",
              "4                         NaN                        NaN   \n",
              "\n",
              "   AMT_REQ_CREDIT_BUREAU_QRT  AMT_REQ_CREDIT_BUREAU_YEAR  \n",
              "0                        0.0                         0.0  \n",
              "1                        0.0                         3.0  \n",
              "2                        1.0                         4.0  \n",
              "3                        0.0                         3.0  \n",
              "4                        NaN                         NaN  \n",
              "\n",
              "[5 rows x 121 columns]"
            ]
          },
          "execution_count": 197,
          "metadata": {},
          "output_type": "execute_result"
        }
      ],
      "source": [
        "print(test.shape)\n",
        "test.head()"
      ]
    },
    {
      "cell_type": "markdown",
      "metadata": {
        "_uuid": "e351f02c8a5886756507a2d4f1ddba4791220f12",
        "id": "rddN3AbzZt0U"
      },
      "source": [
        "L'ensemble de test ne comporte pas de colonne `TARGET`. Cela signifie que si nous voulons évaluer notre modèle sans avoir à faire de soumissions sur Kaggle à chaque fois, il nous faut un jeu de validation."
      ]
    },
    {
      "cell_type": "code",
      "execution_count": 198,
      "metadata": {
        "id": "52SUlyzfZt0U"
      },
      "outputs": [],
      "source": [
        "from sklearn.model_selection import train_test_split\n",
        "\n",
        "train, val = train_test_split(train, test_size=0.20, stratify=train['TARGET'], random_state=42)"
      ]
    },
    {
      "cell_type": "code",
      "execution_count": 199,
      "metadata": {
        "id": "uJDu8agMZt0U",
        "outputId": "9cb9670f-1227-4f68-c8fa-a6f79106c735"
      },
      "outputs": [
        {
          "data": {
            "text/plain": [
              "Index(['NAME_CONTRACT_TYPE', 'CODE_GENDER', 'FLAG_OWN_CAR', 'FLAG_OWN_REALTY',\n",
              "       'NAME_TYPE_SUITE', 'NAME_INCOME_TYPE', 'NAME_EDUCATION_TYPE',\n",
              "       'NAME_FAMILY_STATUS', 'NAME_HOUSING_TYPE', 'OCCUPATION_TYPE',\n",
              "       'WEEKDAY_APPR_PROCESS_START', 'ORGANIZATION_TYPE', 'FONDKAPREMONT_MODE',\n",
              "       'HOUSETYPE_MODE', 'WALLSMATERIAL_MODE', 'EMERGENCYSTATE_MODE'],\n",
              "      dtype='object')"
            ]
          },
          "execution_count": 199,
          "metadata": {},
          "output_type": "execute_result"
        }
      ],
      "source": [
        "train.select_dtypes('object').columns\n",
        "# train.shape"
      ]
    },
    {
      "cell_type": "markdown",
      "metadata": {
        "_uuid": "0b1a02afd367d1c4ee3a3a936382ca42fb921b9d",
        "id": "pXHvsftpZt0U"
      },
      "source": [
        "# Basic EDA\n",
        "\n",
        "L'objectif de l'EDA est d'apprendre ce que nos données peuvent nous dire. Elle commence généralement par une vue d'ensemble de haut niveau, puis se concentre sur des domaines spécifiques au fur et à mesure que nous trouvons des zones intrigantes dans les données.\n"
      ]
    },
    {
      "cell_type": "markdown",
      "metadata": {
        "_cell_guid": "23b20e53-3484-4c4b-bec9-2d8ac2ac918d",
        "_uuid": "7c006a09627df1333c557dc11a09f372bde34dda",
        "id": "njOURBepZt0U"
      },
      "source": [
        "## Distribution de la cible "
      ]
    },
    {
      "cell_type": "code",
      "execution_count": 200,
      "metadata": {
        "_cell_guid": "5fb6ab16-1b38-4ecf-8123-e48c7c061773",
        "_uuid": "2163ca09678b53dbe88388ccbc7d0e0f7d6c6230",
        "id": "wDngo-RgZt0U",
        "outputId": "085ec591-d5ba-465b-a5fe-840cbd032aa3"
      },
      "outputs": [
        {
          "data": {
            "text/plain": [
              "0    226148\n",
              "1     19860\n",
              "Name: TARGET, dtype: int64"
            ]
          },
          "execution_count": 200,
          "metadata": {},
          "output_type": "execute_result"
        }
      ],
      "source": [
        "train['TARGET'].value_counts()"
      ]
    },
    {
      "cell_type": "markdown",
      "metadata": {
        "_cell_guid": "48f008ff-d81e-46b2-80a3-e58f2a6627ca",
        "_uuid": "119106000875202a0030109f14b73245fc4285e1",
        "id": "LBJVsoZTZt0U"
      },
      "source": [
        "Il y a beaucoup plus de prêts qui ont été remboursés à temps que de prêts qui n'ont pas été remboursés. Une bonne idée peut être de recourrir à des techniques de sur ou sous échantillonage. Ou meme utiliser un modèle sophistiqué afin de pondérer les classes en fonction de leur représentation dans les données."
      ]
    },
    {
      "cell_type": "markdown",
      "metadata": {
        "_cell_guid": "507ec6b1-99d0-4324-a3ed-bdea2f916227",
        "_uuid": "58851dfef481f32b3026e89b086534ea3683440d",
        "id": "Ve19UQmXZt0V"
      },
      "source": [
        "## Valeurs manquantes"
      ]
    },
    {
      "cell_type": "code",
      "execution_count": 201,
      "metadata": {
        "_cell_guid": "fc4c675f-e4a1-4e4f-9ece-3c59e5c8f7fd",
        "_uuid": "7a2f5c72c45fa04d9fa95e8051ae595be806e9a2",
        "id": "gB9Rlg9kZt0V"
      },
      "outputs": [
        {
          "data": {
            "text/html": [
              "<div>\n",
              "<style scoped>\n",
              "    .dataframe tbody tr th:only-of-type {\n",
              "        vertical-align: middle;\n",
              "    }\n",
              "\n",
              "    .dataframe tbody tr th {\n",
              "        vertical-align: top;\n",
              "    }\n",
              "\n",
              "    .dataframe thead th {\n",
              "        text-align: right;\n",
              "    }\n",
              "</style>\n",
              "<table border=\"1\" class=\"dataframe\">\n",
              "  <thead>\n",
              "    <tr style=\"text-align: right;\">\n",
              "      <th></th>\n",
              "      <th>Missing Values</th>\n",
              "      <th>Percentage</th>\n",
              "    </tr>\n",
              "  </thead>\n",
              "  <tbody>\n",
              "    <tr>\n",
              "      <th>COMMONAREA_MEDI</th>\n",
              "      <td>171811</td>\n",
              "      <td>69.8</td>\n",
              "    </tr>\n",
              "    <tr>\n",
              "      <th>COMMONAREA_AVG</th>\n",
              "      <td>171811</td>\n",
              "      <td>69.8</td>\n",
              "    </tr>\n",
              "    <tr>\n",
              "      <th>COMMONAREA_MODE</th>\n",
              "      <td>171811</td>\n",
              "      <td>69.8</td>\n",
              "    </tr>\n",
              "    <tr>\n",
              "      <th>NONLIVINGAPARTMENTS_MEDI</th>\n",
              "      <td>170729</td>\n",
              "      <td>69.4</td>\n",
              "    </tr>\n",
              "    <tr>\n",
              "      <th>NONLIVINGAPARTMENTS_MODE</th>\n",
              "      <td>170729</td>\n",
              "      <td>69.4</td>\n",
              "    </tr>\n",
              "    <tr>\n",
              "      <th>NONLIVINGAPARTMENTS_AVG</th>\n",
              "      <td>170729</td>\n",
              "      <td>69.4</td>\n",
              "    </tr>\n",
              "    <tr>\n",
              "      <th>FONDKAPREMONT_MODE</th>\n",
              "      <td>168215</td>\n",
              "      <td>68.4</td>\n",
              "    </tr>\n",
              "    <tr>\n",
              "      <th>LIVINGAPARTMENTS_MODE</th>\n",
              "      <td>168119</td>\n",
              "      <td>68.3</td>\n",
              "    </tr>\n",
              "    <tr>\n",
              "      <th>LIVINGAPARTMENTS_MEDI</th>\n",
              "      <td>168119</td>\n",
              "      <td>68.3</td>\n",
              "    </tr>\n",
              "    <tr>\n",
              "      <th>LIVINGAPARTMENTS_AVG</th>\n",
              "      <td>168119</td>\n",
              "      <td>68.3</td>\n",
              "    </tr>\n",
              "  </tbody>\n",
              "</table>\n",
              "</div>"
            ],
            "text/plain": [
              "                          Missing Values  Percentage\n",
              "COMMONAREA_MEDI                   171811        69.8\n",
              "COMMONAREA_AVG                    171811        69.8\n",
              "COMMONAREA_MODE                   171811        69.8\n",
              "NONLIVINGAPARTMENTS_MEDI          170729        69.4\n",
              "NONLIVINGAPARTMENTS_MODE          170729        69.4\n",
              "NONLIVINGAPARTMENTS_AVG           170729        69.4\n",
              "FONDKAPREMONT_MODE                168215        68.4\n",
              "LIVINGAPARTMENTS_MODE             168119        68.3\n",
              "LIVINGAPARTMENTS_MEDI             168119        68.3\n",
              "LIVINGAPARTMENTS_AVG              168119        68.3"
            ]
          },
          "execution_count": 201,
          "metadata": {},
          "output_type": "execute_result"
        }
      ],
      "source": [
        "mis_val = train.isnull().sum()\n",
        "mis_val_percent = 100.00 * train.isnull().sum() / len(train)\n",
        "\n",
        "mis_val_table = pd.concat([mis_val, mis_val_percent], axis=1)\n",
        "mis_val_table_ren_columns = mis_val_table.rename(\n",
        "columns = {0 : 'Missing Values', 1 : 'Percentage'})\n",
        "\n",
        "mis_val_table_ren_columns = mis_val_table_ren_columns[\n",
        "    mis_val_table_ren_columns.iloc[:,1] != 0].sort_values(\n",
        "'Percentage', ascending=False).round(1)\n",
        "        \n",
        "mis_val_table_ren_columns.head(10)"
      ]
    },
    {
      "cell_type": "markdown",
      "metadata": {
        "_cell_guid": "df3c6a1d-b3ff-4565-bb32-5cba43c52729",
        "_uuid": "0b1be19103910ce83ebf54eeed99e42829643578",
        "id": "L4bxTwCPZt0V"
      },
      "source": [
        "Nous devrons imputer ces valeurs manquantes ou utiliser des modèles tels que XGBoost qui peuvent gérer les valeurs manquantes. Une autre option serait de supprimer les colonnes présentant un pourcentage élevé de valeurs manquantes...  "
      ]
    },
    {
      "cell_type": "markdown",
      "metadata": {
        "_uuid": "0672e40c3ab75a7901c0de35d248b322a227dc7f",
        "id": "oMc3BVqEZt0V"
      },
      "source": [
        "## Types de données "
      ]
    },
    {
      "cell_type": "code",
      "execution_count": 202,
      "metadata": {
        "_uuid": "a03caadd76fa32f4b193e52467d4f39f2145d7b6",
        "id": "z7AxWnASZt0V",
        "outputId": "dabf066d-4eb7-467e-aa09-756f5e90bb94"
      },
      "outputs": [
        {
          "data": {
            "text/plain": [
              "float64    65\n",
              "int64      41\n",
              "object     16\n",
              "dtype: int64"
            ]
          },
          "execution_count": 202,
          "metadata": {},
          "output_type": "execute_result"
        }
      ],
      "source": [
        "train.dtypes.value_counts()"
      ]
    },
    {
      "cell_type": "markdown",
      "metadata": {
        "_uuid": "5859303c9acc63f7ff7acce063a9cd022a6d38cd",
        "id": "IlXn7CzLZt0V"
      },
      "source": [
        "Nombre de catégories pour les variables catégorielles :"
      ]
    },
    {
      "cell_type": "code",
      "execution_count": 203,
      "metadata": {
        "_uuid": "2d021eda10939a19b141292d34491b357acd201a",
        "id": "XhB2nNN7Zt0V",
        "outputId": "c6baeff0-9b5e-4ee9-e962-b3aa1fecd3da"
      },
      "outputs": [
        {
          "data": {
            "text/plain": [
              "NAME_CONTRACT_TYPE             2\n",
              "CODE_GENDER                    3\n",
              "FLAG_OWN_CAR                   2\n",
              "FLAG_OWN_REALTY                2\n",
              "NAME_TYPE_SUITE                7\n",
              "NAME_INCOME_TYPE               8\n",
              "NAME_EDUCATION_TYPE            5\n",
              "NAME_FAMILY_STATUS             6\n",
              "NAME_HOUSING_TYPE              6\n",
              "OCCUPATION_TYPE               18\n",
              "WEEKDAY_APPR_PROCESS_START     7\n",
              "ORGANIZATION_TYPE             58\n",
              "FONDKAPREMONT_MODE             4\n",
              "HOUSETYPE_MODE                 3\n",
              "WALLSMATERIAL_MODE             7\n",
              "EMERGENCYSTATE_MODE            2\n",
              "dtype: int64"
            ]
          },
          "execution_count": 203,
          "metadata": {},
          "output_type": "execute_result"
        }
      ],
      "source": [
        "train.select_dtypes('object').apply(pd.Series.nunique, axis = 0)"
      ]
    },
    {
      "cell_type": "markdown",
      "metadata": {
        "_cell_guid": "86d1b309-5524-4298-b873-2c1c09eddec6",
        "_uuid": "1b49e667293daabffd8a4b2b6d02cf44bf6a3ba8",
        "id": "1onaV3WkZt0V"
      },
      "source": [
        "## Encodage des variables catégorielles\n"
      ]
    },
    {
      "cell_type": "markdown",
      "metadata": {
        "_cell_guid": "95627792-157e-457a-88a8-3b3875c7e1d5",
        "_uuid": "46f5bf9a6de52e270aa911ffd895e704da5426ec",
        "id": "gknhdsIFZt0V"
      },
      "source": [
        "Pour toute variable catégorielle avec 2 catégories uniques, nous utiliserons le label encoding, et pour toute variable catégorielle avec plus de 2 catégories uniques, nous utiliserons le one hot encoding. Ici, le choix est arbitraire et permet d'avoir rapidement un modèle baseline."
      ]
    },
    {
      "cell_type": "code",
      "execution_count": 204,
      "metadata": {
        "_cell_guid": "70641d4d-1075-4837-8972-e58d70d8f242",
        "_uuid": "ddfaae5c3dcc7ec6bb47a2dffc10d364e8d25355",
        "id": "hSEfG7owZt0W",
        "outputId": "69300557-e452-4ba3-bb90-93be6f542857"
      },
      "outputs": [
        {
          "name": "stdout",
          "output_type": "stream",
          "text": [
            "3 label encoded columns.\n"
          ]
        }
      ],
      "source": [
        "le = LabelEncoder()\n",
        "le_cols = 0\n",
        "\n",
        "for col in train:\n",
        "    if train[col].dtype == 'object':\n",
        "        if len(list(train[col].unique())) <= 2:\n",
        "            # Train on the training data and avoid leakage\n",
        "            le.fit(train[col])\n",
        "            # Transform both training and testing data\n",
        "            train[col] = le.transform(train[col])\n",
        "            val[col] = le.transform(val[col])\n",
        "            test[col] = le.transform(test[col])\n",
        "            \n",
        "            le_cols += 1\n",
        "            \n",
        "print(f'{le_cols} label encoded columns.')"
      ]
    },
    {
      "cell_type": "code",
      "execution_count": 205,
      "metadata": {
        "_cell_guid": "0851773b-39fd-4cf0-9a66-e30adeef3e57",
        "_uuid": "6796c6dc793a08e162b6e20c6f185ef37bdf51f3",
        "id": "QeE6CmKdZt0W",
        "outputId": "e9d79d0d-5d9c-485d-d8ac-a87ae87cb02d"
      },
      "outputs": [
        {
          "name": "stdout",
          "output_type": "stream",
          "text": [
            "Training Features shape:  (246008, 243)\n",
            "Training Features shape:  (61503, 242)\n",
            "Testing Features shape:  (48744, 239)\n"
          ]
        }
      ],
      "source": [
        "# one-hot encoding of categorical variables\n",
        "train = pd.get_dummies(train)\n",
        "val = pd.get_dummies(val)\n",
        "test = pd.get_dummies(test)\n",
        "\n",
        "print('Training Features shape: ', train.shape)\n",
        "print('Training Features shape: ', val.shape)\n",
        "print('Testing Features shape: ', test.shape)"
      ]
    },
    {
      "cell_type": "markdown",
      "metadata": {
        "_cell_guid": "61d910b5-84f5-4655-bd8a-d29672c13741",
        "_uuid": "1b2c4198638ec8e5155097d112249de8754eb5c0",
        "id": "vhsgX6pPZt0W"
      },
      "source": [
        "### Attention aux différentes colonnes entre train et test data\n",
        "\n",
        "Il doit y avoir les mêmes caractéristiques (colonnes) dans les deux dataframes. L'encodage one hot a créé plus de colonnes dans les données d'apprentissage parce qu'il y avait quelques variables catégorielles avec des catégories non représentées dans les données de test. Nous devons supprimer les colonnes dans les données d'apprentissage qui ne sont pas dans les données de test. "
      ]
    },
    {
      "cell_type": "code",
      "execution_count": 206,
      "metadata": {
        "_cell_guid": "d99ca215-e893-490c-a6a4-83f3e8a067b3",
        "_uuid": "e0d12a13cb95521c19b10d8829e8abe2b1118396",
        "id": "QkddGeaUZt0W",
        "outputId": "65df731b-45e5-4ec2-f48c-c300da8b9457"
      },
      "outputs": [
        {
          "name": "stdout",
          "output_type": "stream",
          "text": [
            "Train df shape:  (246008, 240)\n",
            "Val df shape:  (61503, 240)\n",
            "Test df shape:  (48744, 239)\n"
          ]
        }
      ],
      "source": [
        "# remove target \n",
        "train_labels = train['TARGET']\n",
        "val_labels = val['TARGET']\n",
        "\n",
        "# keep only columns in both dfs\n",
        "train, test = train.align(test, join = 'inner', axis = 1)\n",
        "train, val = train.align(val, join = 'inner', axis = 1)\n",
        "\n",
        "# add back target\n",
        "train['TARGET'] = train_labels\n",
        "val['TARGET'] = val_labels\n",
        "\n",
        "print('Train df shape: ', train.shape)\n",
        "print('Val df shape: ', val.shape)\n",
        "print('Test df shape: ', test.shape)"
      ]
    },
    {
      "cell_type": "markdown",
      "metadata": {
        "_uuid": "802ffdbae02e43a9ca4e256ffcd6bd40ae15f3e9",
        "id": "wO8stkE4Zt0W"
      },
      "source": [
        "La taille du dataset a explosé, nous voudrons surement réaliser un sélection des variables informatives."
      ]
    },
    {
      "cell_type": "markdown",
      "metadata": {
        "_cell_guid": "13918211-0e6b-4d72-955b-f997db19eea2",
        "_uuid": "4d7c8dd1d5bb5a0ef84cb78e6bff927249e62145",
        "id": "PReIfmrOZt0W"
      },
      "source": [
        "### Les anomalies\n",
        "\n",
        "Une façon de repérer les anomalies est de regarder les statistiques d'une colonne en utilisant la méthode `describe`. \n"
      ]
    },
    {
      "cell_type": "code",
      "execution_count": 207,
      "metadata": {
        "id": "hY_Vh2HlZt0W",
        "outputId": "f014d2f7-f7b7-417a-c5c3-504988d1dddf"
      },
      "outputs": [
        {
          "data": {
            "text/html": [
              "<div>\n",
              "<style scoped>\n",
              "    .dataframe tbody tr th:only-of-type {\n",
              "        vertical-align: middle;\n",
              "    }\n",
              "\n",
              "    .dataframe tbody tr th {\n",
              "        vertical-align: top;\n",
              "    }\n",
              "\n",
              "    .dataframe thead th {\n",
              "        text-align: right;\n",
              "    }\n",
              "</style>\n",
              "<table border=\"1\" class=\"dataframe\">\n",
              "  <thead>\n",
              "    <tr style=\"text-align: right;\">\n",
              "      <th></th>\n",
              "      <th>SK_ID_CURR</th>\n",
              "      <th>NAME_CONTRACT_TYPE</th>\n",
              "      <th>FLAG_OWN_CAR</th>\n",
              "      <th>FLAG_OWN_REALTY</th>\n",
              "      <th>CNT_CHILDREN</th>\n",
              "      <th>AMT_INCOME_TOTAL</th>\n",
              "      <th>AMT_CREDIT</th>\n",
              "      <th>AMT_ANNUITY</th>\n",
              "      <th>AMT_GOODS_PRICE</th>\n",
              "      <th>REGION_POPULATION_RELATIVE</th>\n",
              "      <th>...</th>\n",
              "      <th>WALLSMATERIAL_MODE_Block</th>\n",
              "      <th>WALLSMATERIAL_MODE_Mixed</th>\n",
              "      <th>WALLSMATERIAL_MODE_Monolithic</th>\n",
              "      <th>WALLSMATERIAL_MODE_Others</th>\n",
              "      <th>WALLSMATERIAL_MODE_Panel</th>\n",
              "      <th>WALLSMATERIAL_MODE_Stone, brick</th>\n",
              "      <th>WALLSMATERIAL_MODE_Wooden</th>\n",
              "      <th>EMERGENCYSTATE_MODE_No</th>\n",
              "      <th>EMERGENCYSTATE_MODE_Yes</th>\n",
              "      <th>TARGET</th>\n",
              "    </tr>\n",
              "  </thead>\n",
              "  <tbody>\n",
              "    <tr>\n",
              "      <th>count</th>\n",
              "      <td>246008.000000</td>\n",
              "      <td>246008.000000</td>\n",
              "      <td>246008.000000</td>\n",
              "      <td>246008.000000</td>\n",
              "      <td>246008.000000</td>\n",
              "      <td>2.460080e+05</td>\n",
              "      <td>2.460080e+05</td>\n",
              "      <td>245998.000000</td>\n",
              "      <td>2.457870e+05</td>\n",
              "      <td>246008.000000</td>\n",
              "      <td>...</td>\n",
              "      <td>246008.000000</td>\n",
              "      <td>246008.000000</td>\n",
              "      <td>246008.000000</td>\n",
              "      <td>246008.000000</td>\n",
              "      <td>246008.000000</td>\n",
              "      <td>246008.000000</td>\n",
              "      <td>246008.000000</td>\n",
              "      <td>246008.000000</td>\n",
              "      <td>246008.000000</td>\n",
              "      <td>246008.000000</td>\n",
              "    </tr>\n",
              "    <tr>\n",
              "      <th>mean</th>\n",
              "      <td>278335.354724</td>\n",
              "      <td>0.095314</td>\n",
              "      <td>0.339806</td>\n",
              "      <td>0.693839</td>\n",
              "      <td>0.416409</td>\n",
              "      <td>1.688532e+05</td>\n",
              "      <td>5.993382e+05</td>\n",
              "      <td>27108.089708</td>\n",
              "      <td>5.386530e+05</td>\n",
              "      <td>0.020858</td>\n",
              "      <td>...</td>\n",
              "      <td>0.030377</td>\n",
              "      <td>0.007313</td>\n",
              "      <td>0.005874</td>\n",
              "      <td>0.005317</td>\n",
              "      <td>0.214847</td>\n",
              "      <td>0.210814</td>\n",
              "      <td>0.017447</td>\n",
              "      <td>0.518560</td>\n",
              "      <td>0.007549</td>\n",
              "      <td>0.080729</td>\n",
              "    </tr>\n",
              "    <tr>\n",
              "      <th>std</th>\n",
              "      <td>102797.868259</td>\n",
              "      <td>0.293649</td>\n",
              "      <td>0.473644</td>\n",
              "      <td>0.460898</td>\n",
              "      <td>0.719500</td>\n",
              "      <td>2.589606e+05</td>\n",
              "      <td>4.027258e+05</td>\n",
              "      <td>14520.904087</td>\n",
              "      <td>3.695950e+05</td>\n",
              "      <td>0.013835</td>\n",
              "      <td>...</td>\n",
              "      <td>0.171623</td>\n",
              "      <td>0.085202</td>\n",
              "      <td>0.076415</td>\n",
              "      <td>0.072723</td>\n",
              "      <td>0.410717</td>\n",
              "      <td>0.407888</td>\n",
              "      <td>0.130929</td>\n",
              "      <td>0.499656</td>\n",
              "      <td>0.086554</td>\n",
              "      <td>0.272419</td>\n",
              "    </tr>\n",
              "    <tr>\n",
              "      <th>min</th>\n",
              "      <td>100002.000000</td>\n",
              "      <td>0.000000</td>\n",
              "      <td>0.000000</td>\n",
              "      <td>0.000000</td>\n",
              "      <td>0.000000</td>\n",
              "      <td>2.565000e+04</td>\n",
              "      <td>4.500000e+04</td>\n",
              "      <td>1615.500000</td>\n",
              "      <td>4.050000e+04</td>\n",
              "      <td>0.000290</td>\n",
              "      <td>...</td>\n",
              "      <td>0.000000</td>\n",
              "      <td>0.000000</td>\n",
              "      <td>0.000000</td>\n",
              "      <td>0.000000</td>\n",
              "      <td>0.000000</td>\n",
              "      <td>0.000000</td>\n",
              "      <td>0.000000</td>\n",
              "      <td>0.000000</td>\n",
              "      <td>0.000000</td>\n",
              "      <td>0.000000</td>\n",
              "    </tr>\n",
              "    <tr>\n",
              "      <th>25%</th>\n",
              "      <td>189239.750000</td>\n",
              "      <td>0.000000</td>\n",
              "      <td>0.000000</td>\n",
              "      <td>0.000000</td>\n",
              "      <td>0.000000</td>\n",
              "      <td>1.125000e+05</td>\n",
              "      <td>2.700000e+05</td>\n",
              "      <td>16510.500000</td>\n",
              "      <td>2.385000e+05</td>\n",
              "      <td>0.010006</td>\n",
              "      <td>...</td>\n",
              "      <td>0.000000</td>\n",
              "      <td>0.000000</td>\n",
              "      <td>0.000000</td>\n",
              "      <td>0.000000</td>\n",
              "      <td>0.000000</td>\n",
              "      <td>0.000000</td>\n",
              "      <td>0.000000</td>\n",
              "      <td>0.000000</td>\n",
              "      <td>0.000000</td>\n",
              "      <td>0.000000</td>\n",
              "    </tr>\n",
              "    <tr>\n",
              "      <th>50%</th>\n",
              "      <td>278392.000000</td>\n",
              "      <td>0.000000</td>\n",
              "      <td>0.000000</td>\n",
              "      <td>1.000000</td>\n",
              "      <td>0.000000</td>\n",
              "      <td>1.476000e+05</td>\n",
              "      <td>5.147775e+05</td>\n",
              "      <td>24903.000000</td>\n",
              "      <td>4.500000e+05</td>\n",
              "      <td>0.018850</td>\n",
              "      <td>...</td>\n",
              "      <td>0.000000</td>\n",
              "      <td>0.000000</td>\n",
              "      <td>0.000000</td>\n",
              "      <td>0.000000</td>\n",
              "      <td>0.000000</td>\n",
              "      <td>0.000000</td>\n",
              "      <td>0.000000</td>\n",
              "      <td>1.000000</td>\n",
              "      <td>0.000000</td>\n",
              "      <td>0.000000</td>\n",
              "    </tr>\n",
              "    <tr>\n",
              "      <th>75%</th>\n",
              "      <td>367291.750000</td>\n",
              "      <td>0.000000</td>\n",
              "      <td>1.000000</td>\n",
              "      <td>1.000000</td>\n",
              "      <td>1.000000</td>\n",
              "      <td>2.025000e+05</td>\n",
              "      <td>8.086500e+05</td>\n",
              "      <td>34596.000000</td>\n",
              "      <td>6.795000e+05</td>\n",
              "      <td>0.028663</td>\n",
              "      <td>...</td>\n",
              "      <td>0.000000</td>\n",
              "      <td>0.000000</td>\n",
              "      <td>0.000000</td>\n",
              "      <td>0.000000</td>\n",
              "      <td>0.000000</td>\n",
              "      <td>0.000000</td>\n",
              "      <td>0.000000</td>\n",
              "      <td>1.000000</td>\n",
              "      <td>0.000000</td>\n",
              "      <td>0.000000</td>\n",
              "    </tr>\n",
              "    <tr>\n",
              "      <th>max</th>\n",
              "      <td>456255.000000</td>\n",
              "      <td>1.000000</td>\n",
              "      <td>1.000000</td>\n",
              "      <td>1.000000</td>\n",
              "      <td>19.000000</td>\n",
              "      <td>1.170000e+08</td>\n",
              "      <td>4.050000e+06</td>\n",
              "      <td>258025.500000</td>\n",
              "      <td>4.050000e+06</td>\n",
              "      <td>0.072508</td>\n",
              "      <td>...</td>\n",
              "      <td>1.000000</td>\n",
              "      <td>1.000000</td>\n",
              "      <td>1.000000</td>\n",
              "      <td>1.000000</td>\n",
              "      <td>1.000000</td>\n",
              "      <td>1.000000</td>\n",
              "      <td>1.000000</td>\n",
              "      <td>1.000000</td>\n",
              "      <td>1.000000</td>\n",
              "      <td>1.000000</td>\n",
              "    </tr>\n",
              "  </tbody>\n",
              "</table>\n",
              "<p>8 rows × 240 columns</p>\n",
              "</div>"
            ],
            "text/plain": [
              "          SK_ID_CURR  NAME_CONTRACT_TYPE   FLAG_OWN_CAR  FLAG_OWN_REALTY  \\\n",
              "count  246008.000000       246008.000000  246008.000000    246008.000000   \n",
              "mean   278335.354724            0.095314       0.339806         0.693839   \n",
              "std    102797.868259            0.293649       0.473644         0.460898   \n",
              "min    100002.000000            0.000000       0.000000         0.000000   \n",
              "25%    189239.750000            0.000000       0.000000         0.000000   \n",
              "50%    278392.000000            0.000000       0.000000         1.000000   \n",
              "75%    367291.750000            0.000000       1.000000         1.000000   \n",
              "max    456255.000000            1.000000       1.000000         1.000000   \n",
              "\n",
              "        CNT_CHILDREN  AMT_INCOME_TOTAL    AMT_CREDIT    AMT_ANNUITY  \\\n",
              "count  246008.000000      2.460080e+05  2.460080e+05  245998.000000   \n",
              "mean        0.416409      1.688532e+05  5.993382e+05   27108.089708   \n",
              "std         0.719500      2.589606e+05  4.027258e+05   14520.904087   \n",
              "min         0.000000      2.565000e+04  4.500000e+04    1615.500000   \n",
              "25%         0.000000      1.125000e+05  2.700000e+05   16510.500000   \n",
              "50%         0.000000      1.476000e+05  5.147775e+05   24903.000000   \n",
              "75%         1.000000      2.025000e+05  8.086500e+05   34596.000000   \n",
              "max        19.000000      1.170000e+08  4.050000e+06  258025.500000   \n",
              "\n",
              "       AMT_GOODS_PRICE  REGION_POPULATION_RELATIVE  ...  \\\n",
              "count     2.457870e+05               246008.000000  ...   \n",
              "mean      5.386530e+05                    0.020858  ...   \n",
              "std       3.695950e+05                    0.013835  ...   \n",
              "min       4.050000e+04                    0.000290  ...   \n",
              "25%       2.385000e+05                    0.010006  ...   \n",
              "50%       4.500000e+05                    0.018850  ...   \n",
              "75%       6.795000e+05                    0.028663  ...   \n",
              "max       4.050000e+06                    0.072508  ...   \n",
              "\n",
              "       WALLSMATERIAL_MODE_Block  WALLSMATERIAL_MODE_Mixed  \\\n",
              "count             246008.000000             246008.000000   \n",
              "mean                   0.030377                  0.007313   \n",
              "std                    0.171623                  0.085202   \n",
              "min                    0.000000                  0.000000   \n",
              "25%                    0.000000                  0.000000   \n",
              "50%                    0.000000                  0.000000   \n",
              "75%                    0.000000                  0.000000   \n",
              "max                    1.000000                  1.000000   \n",
              "\n",
              "       WALLSMATERIAL_MODE_Monolithic  WALLSMATERIAL_MODE_Others  \\\n",
              "count                  246008.000000              246008.000000   \n",
              "mean                        0.005874                   0.005317   \n",
              "std                         0.076415                   0.072723   \n",
              "min                         0.000000                   0.000000   \n",
              "25%                         0.000000                   0.000000   \n",
              "50%                         0.000000                   0.000000   \n",
              "75%                         0.000000                   0.000000   \n",
              "max                         1.000000                   1.000000   \n",
              "\n",
              "       WALLSMATERIAL_MODE_Panel  WALLSMATERIAL_MODE_Stone, brick  \\\n",
              "count             246008.000000                    246008.000000   \n",
              "mean                   0.214847                         0.210814   \n",
              "std                    0.410717                         0.407888   \n",
              "min                    0.000000                         0.000000   \n",
              "25%                    0.000000                         0.000000   \n",
              "50%                    0.000000                         0.000000   \n",
              "75%                    0.000000                         0.000000   \n",
              "max                    1.000000                         1.000000   \n",
              "\n",
              "       WALLSMATERIAL_MODE_Wooden  EMERGENCYSTATE_MODE_No  \\\n",
              "count              246008.000000           246008.000000   \n",
              "mean                    0.017447                0.518560   \n",
              "std                     0.130929                0.499656   \n",
              "min                     0.000000                0.000000   \n",
              "25%                     0.000000                0.000000   \n",
              "50%                     0.000000                1.000000   \n",
              "75%                     0.000000                1.000000   \n",
              "max                     1.000000                1.000000   \n",
              "\n",
              "       EMERGENCYSTATE_MODE_Yes         TARGET  \n",
              "count            246008.000000  246008.000000  \n",
              "mean                  0.007549       0.080729  \n",
              "std                   0.086554       0.272419  \n",
              "min                   0.000000       0.000000  \n",
              "25%                   0.000000       0.000000  \n",
              "50%                   0.000000       0.000000  \n",
              "75%                   0.000000       0.000000  \n",
              "max                   1.000000       1.000000  \n",
              "\n",
              "[8 rows x 240 columns]"
            ]
          },
          "execution_count": 207,
          "metadata": {},
          "output_type": "execute_result"
        }
      ],
      "source": [
        "train.describe()"
      ]
    },
    {
      "cell_type": "markdown",
      "metadata": {
        "_uuid": "acb37a3e3f2e0b2fd581259788b9255398314157",
        "id": "hJ9_2UvWZt0X"
      },
      "source": [
        "Those ages look reasonable. There are no outliers for the age on either the high or low end. How about the days of employment? "
      ]
    },
    {
      "cell_type": "code",
      "execution_count": 208,
      "metadata": {
        "_uuid": "600c59dd5d970d3ccfea3a6af0036d85958adc91",
        "id": "e0zQOTbYZt0X",
        "outputId": "48fad48b-c378-44cc-ebac-b830c0f26b74"
      },
      "outputs": [
        {
          "data": {
            "text/plain": [
              "count    246008.000000\n",
              "mean      63581.163637\n",
              "std      141081.696923\n",
              "min      -17912.000000\n",
              "25%       -2762.000000\n",
              "50%       -1215.000000\n",
              "75%        -291.000000\n",
              "max      365243.000000\n",
              "Name: DAYS_EMPLOYED, dtype: float64"
            ]
          },
          "execution_count": 208,
          "metadata": {},
          "output_type": "execute_result"
        }
      ],
      "source": [
        "train['DAYS_EMPLOYED'].describe()"
      ]
    },
    {
      "cell_type": "markdown",
      "metadata": {
        "_uuid": "1cdd9dafce28e497e08062cd3b189ac353c04cd9",
        "id": "5nInIJuSZt0X"
      },
      "source": [
        "La valeur maximale de jours en emploi est d'environ 1000 ans, ce qui n'a pas de sens."
      ]
    },
    {
      "cell_type": "code",
      "execution_count": 209,
      "metadata": {
        "_uuid": "2878bfb3a2be4554f33e03e1a04d4c1978b52a08",
        "id": "-Ja3WPFVZt0X",
        "outputId": "fcafb1b6-f982-4ce7-8b8f-d00757f4857e"
      },
      "outputs": [
        {
          "data": {
            "text/plain": [
              "Text(0.5, 0, 'Jours en emploi')"
            ]
          },
          "execution_count": 209,
          "metadata": {},
          "output_type": "execute_result"
        },
        {
          "data": {
            "image/png": "[encoded data removed]",
            "text/plain": [
              "<Figure size 640x480 with 1 Axes>"
            ]
          },
          "metadata": {},
          "output_type": "display_data"
        }
      ],
      "source": [
        "train['DAYS_EMPLOYED'].hist()\n",
        "plt.xlabel('Jours en emploi')"
      ]
    },
    {
      "cell_type": "markdown",
      "metadata": {
        "_uuid": "d28ca1e799c0a6113cc5e920297e1dc93d380af4",
        "id": "SteHoBW6Zt0X"
      },
      "source": [
        "Quand on rencontre des anomalies telles que celles-ci, il est possible d'imaginer que ces un phénomène aléatoire mais parfois le simple fait que la donnée soit abbérante ou meme manquante est une information en soit. Il est toujours intéressant de comparer le fait que ce soit une anomalie ou non avec la valeur de la cible.\n",
        "\n",
        "Ici, regardons si les erreurs de saisies concernant les jours en emploi ont une corrélation avec la cible ou non ? "
      ]
    },
    {
      "cell_type": "code",
      "execution_count": 210,
      "metadata": {
        "_uuid": "67ea87d9ef6974b1780a7db1eefd13f90f81b5be",
        "id": "IXoSqMm2Zt0X",
        "outputId": "b8f49a90-961a-4746-c2fd-fbeefcdae80c"
      },
      "outputs": [
        {
          "name": "stdout",
          "output_type": "stream",
          "text": [
            "Non anomalous observations regarding number of days employed default on 8.66% of loans\n",
            "The anomalous observations regarding number of days employed default on 5.37% of loans\n"
          ]
        }
      ],
      "source": [
        "anomalies = train[train['DAYS_EMPLOYED'] == 365243]\n",
        "regular_data = train[train['DAYS_EMPLOYED'] != 365243]\n",
        "print('Non anomalous observations regarding number of days employed default on %0.2f%% of loans' % (100 * regular_data['TARGET'].mean()))\n",
        "print('The anomalous observations regarding number of days employed default on %0.2f%% of loans' % (100 * anomalies['TARGET'].mean()))\n"
      ]
    },
    {
      "cell_type": "markdown",
      "metadata": {
        "_uuid": "1edfcf786aadb004f083e9896989a29e43bf80da",
        "id": "puE3182BZt0X"
      },
      "source": [
        "Il s'avère que les anomalies du point de vue du nombre de jours en emploi ont un taux de défaut plus faible. \n",
        "\n",
        "L'une des approches les plus sûres consiste à définir les anomalies comme des valeurs manquantes, puis à les imputer. En effet, ici, les valeurs anormales semblent avoir une certaine importance, et nous voulons donc indiquer au modèle que nous avons imputé ces valeurs."
      ]
    },
    {
      "cell_type": "code",
      "execution_count": 211,
      "metadata": {
        "_uuid": "e23ec3cb89428f3dd994b572f718cc729740cfab",
        "id": "PKz36gGPZt0X",
        "outputId": "2689bde4-884f-4417-9ef9-4dc03206cf8a"
      },
      "outputs": [
        {
          "data": {
            "text/plain": [
              "Text(0.5, 0, 'Jours en emploi')"
            ]
          },
          "execution_count": 211,
          "metadata": {},
          "output_type": "execute_result"
        },
        {
          "data": {
            "image/png": "[encoded data removed]",
            "text/plain": [
              "<Figure size 640x480 with 1 Axes>"
            ]
          },
          "metadata": {},
          "output_type": "display_data"
        }
      ],
      "source": [
        "# on indique les valeurs abbérantes avec un booléen \n",
        "train['DAYS_EMPLOYED_ANOMALIES'] = train[\"DAYS_EMPLOYED\"] == 365243\n",
        "\n",
        "# on les remplace avec np.nan pour imputation ultérieure\n",
        "train['DAYS_EMPLOYED'].replace({365243: np.nan}, inplace = True)\n",
        "train['DAYS_EMPLOYED'].hist()\n",
        "plt.xlabel('Jours en emploi')"
      ]
    },
    {
      "cell_type": "markdown",
      "metadata": {
        "_uuid": "839595437c0721e2480f6b4ee58f3060b222f166",
        "id": "m_HW5Km6Zt0X"
      },
      "source": [
        "Les autres colonnes avec `DAYS` dans le cadre de données semblent être à peu près ce que nous attendons, sans aberrations évidentes. "
      ]
    },
    {
      "cell_type": "code",
      "execution_count": 212,
      "metadata": {
        "_uuid": "a0d7c77b2adecaa878f39cf86ffddcfbbe51a190",
        "id": "3hYyR8utZt0X"
      },
      "outputs": [],
      "source": [
        "# on réplique les manipulations dans les dfs de val et de test\n",
        "val['DAYS_EMPLOYED_ANOMALIES'] = val[\"DAYS_EMPLOYED\"] == 365243\n",
        "val[\"DAYS_EMPLOYED\"].replace({365243: np.nan}, inplace = True)\n",
        "test['DAYS_EMPLOYED_ANOMALIES'] = test[\"DAYS_EMPLOYED\"] == 365243\n",
        "test[\"DAYS_EMPLOYED\"].replace({365243: np.nan}, inplace = True)"
      ]
    },
    {
      "cell_type": "markdown",
      "metadata": {
        "_uuid": "fd656b392faad3b34ecfa448b55ad03e75449e0a",
        "id": "uAbFsHgnZt0X"
      },
      "source": [
        "### Etude des corrélations\n",
        "\n",
        "  \n",
        "Le coefficient de corrélation n'est pas la meilleure méthode pour représenter la \"pertinence\" d'une caractéristique, mais il nous donne une idée des relations possibles au sein des données. Il ne prend par exemple pas en compte les corrélations non linéaires.\n"
      ]
    },
    {
      "cell_type": "code",
      "execution_count": 213,
      "metadata": {
        "_cell_guid": "02acdb8d-d95f-41b9-8ad1-e2b6cb26f398",
        "_uuid": "d39d15d64db1f2c9015c6f542911ef9a9cac119e",
        "id": "RUzNGvW8Zt0Y",
        "outputId": "95656799-07ef-41b0-fe8a-4ebb23d155cb"
      },
      "outputs": [
        {
          "data": {
            "text/plain": [
              "EXT_SOURCE_3                           -0.178845\n",
              "EXT_SOURCE_2                           -0.159593\n",
              "EXT_SOURCE_1                           -0.155362\n",
              "NAME_EDUCATION_TYPE_Higher education   -0.055719\n",
              "CODE_GENDER_F                          -0.054576\n",
              "                                          ...   \n",
              "REGION_RATING_CLIENT                    0.058946\n",
              "REGION_RATING_CLIENT_W_CITY             0.061283\n",
              "DAYS_EMPLOYED                           0.075152\n",
              "DAYS_BIRTH                              0.079467\n",
              "TARGET                                  1.000000\n",
              "Name: TARGET, Length: 241, dtype: float64"
            ]
          },
          "execution_count": 213,
          "metadata": {},
          "output_type": "execute_result"
        }
      ],
      "source": [
        "train.corr()['TARGET'].sort_values()"
      ]
    },
    {
      "cell_type": "markdown",
      "metadata": {
        "_cell_guid": "4749204f-ec63-4eeb-8d25-9c80967348f1",
        "_uuid": "43a3bb87bdaa65509e9dc887492239ae06cd1c77",
        "id": "TpgCiKbRZt0Y"
      },
      "source": [
        "### Exterior Sources\n",
        "\n",
        "Les 3 variables ayant les plus fortes corrélations négatives avec la cible sont EXT_SOURCE 1, 2 ET 3."
      ]
    },
    {
      "cell_type": "code",
      "execution_count": 214,
      "metadata": {
        "_cell_guid": "e2ab3b7f-3a53-4495-a1de-31ad287f032a",
        "_uuid": "6197819149feaff75176e64e54c65ea6be3864fe",
        "id": "Ey7mT1-vZt0Y",
        "outputId": "5c1b9094-720f-4b5d-e9b4-b730a2287da3"
      },
      "outputs": [
        {
          "data": {
            "text/plain": [
              "Text(0.5, 1.0, 'Correlation matrix')"
            ]
          },
          "execution_count": 214,
          "metadata": {},
          "output_type": "execute_result"
        },
        {
          "data": {
            "image/png": "[encoded data removed]",
            "text/plain": [
              "<Figure size 800x600 with 2 Axes>"
            ]
          },
          "metadata": {},
          "output_type": "display_data"
        }
      ],
      "source": [
        "# Extract the EXT_SOURCE variables and show correlations\n",
        "ext_sources = train[['TARGET', 'EXT_SOURCE_1', 'EXT_SOURCE_2', 'EXT_SOURCE_3', 'DAYS_BIRTH']]\n",
        "plt.figure(figsize = (8, 6))\n",
        "sns.heatmap(ext_sources.corr(), annot = True)\n",
        "plt.title('Correlation matrix')"
      ]
    },
    {
      "cell_type": "markdown",
      "metadata": {
        "_cell_guid": "78bd5acc-003d-4795-a57a-a6c4fc9c8c5f",
        "_uuid": "6a592aa7c01858b268489ccb8fd00690cd26cd58",
        "id": "0rSAdjBFZt0Y"
      },
      "source": [
        "Les trois caractéristiques EXT_SOURCE ont des corrélations négatives avec la cible, ce qui indique que plus la valeur de EXT_SOURCE augmente, plus le client est susceptible de rembourser le prêt. Il s'agit surement d'indicateurs extérieurs de la solvabilité du client (autres comptes épargnes, assurances vie, placements...)"
      ]
    },
    {
      "cell_type": "markdown",
      "metadata": {
        "_cell_guid": "bd49d18b-e35f-4122-a005-dd06d8f2f7ca",
        "_uuid": "d5506d0483af10dbf71e8ed11c99b2d5253680fb",
        "id": "mS9hwFoZZt0Y"
      },
      "source": [
        "# Feature Engineering\n",
        "\n",
        "Le Feature Engineering est souvent bien plus essentiel que la construction de modèles et le réglage des hyperparamètres. Il faut toujours mettre l'accent sur une donnée de qualité et expressive avant tout le reste.\n",
        "\n",
        "On peut utiliser des transformations standards comme multiplier des features par des autres ou faire des ratios. Cependant, on peut aussi parler au métier et avoir leur retour sur les features qu'il serait intéressant de construire. Ici, nous ajoutons certaines features que nous avons vu revenir fréquemment dans les discusions sur le forum de Kaggle."
      ]
    },
    {
      "cell_type": "markdown",
      "metadata": {
        "_uuid": "9b27fad1522263c32b57a8127c84ad0e08ff9d8f",
        "id": "Mo0bwx4eZt0Y"
      },
      "source": [
        "Features inspirées par certaines discussions sur Kaggle : \n",
        "\n",
        "- CREDIT_INCOME_PERCENT: % du montant du crédit par rapport au revenu, c'est la première feature qu'un conseiller clientèle va observer.\n",
        "- ANNUITY_INCOME_PERCENT: % de l'annuité de prêt par rapport au revenu \n",
        "- CREDIT_TERM:  durée du paiement en mois\n",
        "- DAYS_EMPLOYED_PERCENT: % des jours employés par rapport à l'âge du client, cela permet d'estimer plus précisement si le client a connu des périodes de précarité plus ou moins longue. \n"
      ]
    },
    {
      "cell_type": "code",
      "execution_count": 215,
      "metadata": {
        "_uuid": "c8d4b165b45da6c3120911de18e9348d8726c70c",
        "collapsed": true,
        "id": "-GsVbSzAZt0Y"
      },
      "outputs": [],
      "source": [
        "train_enrich = train.copy()\n",
        "val_enrich = val.copy()\n",
        "test_enrich = test.copy()\n",
        "\n",
        "train_enrich['CREDIT_INCOME_PERCENT'] = train_enrich['AMT_CREDIT'] / train_enrich['AMT_INCOME_TOTAL']\n",
        "train_enrich['ANNUITY_INCOME_PERCENT'] = train_enrich['AMT_ANNUITY'] / train_enrich['AMT_INCOME_TOTAL']\n",
        "train_enrich['CREDIT_TERM'] = train_enrich['AMT_ANNUITY'] / train_enrich['AMT_CREDIT']\n",
        "train_enrich['DAYS_EMPLOYED_PERCENT'] = train_enrich['DAYS_EMPLOYED'] / train_enrich['DAYS_BIRTH']\n",
        "\n",
        "val_enrich['CREDIT_INCOME_PERCENT'] = val_enrich['AMT_CREDIT'] / val_enrich['AMT_INCOME_TOTAL']\n",
        "val_enrich['ANNUITY_INCOME_PERCENT'] = val_enrich['AMT_ANNUITY'] / val_enrich['AMT_INCOME_TOTAL']\n",
        "val_enrich['CREDIT_TERM'] = val_enrich['AMT_ANNUITY'] / val_enrich['AMT_CREDIT']\n",
        "val_enrich['DAYS_EMPLOYED_PERCENT'] = val_enrich['DAYS_EMPLOYED'] / val_enrich['DAYS_BIRTH']"
      ]
    },
    {
      "cell_type": "code",
      "execution_count": 216,
      "metadata": {
        "_uuid": "d017103871bd4935a8c29599d6be33e0e74b2f83",
        "collapsed": true,
        "id": "drD8YV3HZt0Y"
      },
      "outputs": [],
      "source": [
        "test_enrich['CREDIT_INCOME_PERCENT'] = test_enrich['AMT_CREDIT'] / test_enrich['AMT_INCOME_TOTAL']\n",
        "test_enrich['ANNUITY_INCOME_PERCENT'] = test_enrich['AMT_ANNUITY'] / test_enrich['AMT_INCOME_TOTAL']\n",
        "test_enrich['CREDIT_TERM'] = test_enrich['AMT_ANNUITY'] / test_enrich['AMT_CREDIT']\n",
        "test_enrich['DAYS_EMPLOYED_PERCENT'] = test_enrich['DAYS_EMPLOYED'] / test_enrich['DAYS_BIRTH']"
      ]
    },
    {
      "cell_type": "markdown",
      "metadata": {
        "_cell_guid": "ebb64e63-6222-4509-a43c-302c6435ce09",
        "_uuid": "8bf057e523b2d99833f6dc9d95fe6141fb4e325a",
        "id": "TIgkIgPTZt0Y"
      },
      "source": [
        "# Modelling\n",
        "\n",
        "L'objectif de l'exercice n'est pas ici la modélisation poussée néanmoins nous pouvons tester deux modèles. Un modèle linéaire très simple et un modèle plus sophistiqué.\n",
        "\n",
        "\n",
        "## Logistic Regression\n",
        "\n",
        "Implémentons d'abord le modèle de classification le plus standard. Notons que pour l'imputation des valeurs manquantes, comme pour l'encodage des variables catégorielles, nous utilisons des méthodes très rudimentaires, nous pourrions utiliser des modèles pour imputer plus précisement les valeurs manquantes."
      ]
    },
    {
      "cell_type": "code",
      "execution_count": 217,
      "metadata": {
        "_cell_guid": "60ef8744-ca3a-4810-8439-2835fbfc1833",
        "_uuid": "784ae2f91cf7792702595a9973ba773b2acdec00",
        "id": "ufvwSCBFZt0Y",
        "outputId": "2582fb8d-5219-4648-9be3-12e07036be2e"
      },
      "outputs": [
        {
          "name": "stdout",
          "output_type": "stream",
          "text": [
            "(246008, 240)\n",
            "(61503, 240)\n",
            "(48744, 240)\n"
          ]
        }
      ],
      "source": [
        "from sklearn.preprocessing import StandardScaler\n",
        "from sklearn.impute import SimpleImputer\n",
        "\n",
        "\n",
        "# useful later\n",
        "y_train = train.TARGET\n",
        "y_val = val.TARGET\n",
        "X_train = train.drop('TARGET', axis=1)\n",
        "X_val = val.drop('TARGET', axis=1)\n",
        "features = list(X_train.columns)\n",
        " \n",
        "# imputation naive  \n",
        "imputer = SimpleImputer(strategy = 'median')\n",
        "imputer.fit(X_train) \n",
        "X_train = imputer.transform(X_train)\n",
        "X_val = imputer.transform(X_val)\n",
        "test = imputer.transform(test)\n",
        " \n",
        "# scaling\n",
        "scaler = StandardScaler()\n",
        "scaler.fit(X_train)\n",
        "X_train = scaler.transform(X_train)\n",
        "X_val = scaler.transform(X_val)\n",
        "test = scaler.transform(test)\n",
        "\n",
        "print(X_train.shape)\n",
        "print(X_val.shape)\n",
        "print(test.shape)"
      ]
    },
    {
      "cell_type": "code",
      "execution_count": 219,
      "metadata": {
        "id": "qrOR6bqgZt0Y",
        "outputId": "f1ef28e7-93b7-4b49-fb17-972fafebacc6"
      },
      "outputs": [
        {
          "name": "stdout",
          "output_type": "stream",
          "text": [
            "c:  1 :  f1_score :  0.2601487449643632 accuracy_score :  0.6894460432824415\n",
            "c:  0.1 :  f1_score :  0.2601418109961641 accuracy_score :  0.6895273401297498\n",
            "c:  0.01 :  f1_score :  0.26011471089753524 accuracy_score :  0.6895761182381347\n",
            "c:  0.001 :  f1_score :  0.25962023841882503 accuracy_score :  0.689982602474676\n",
            "c:  0.0001 :  f1_score :  0.2586814292903875 accuracy_score :  0.6886493341788206\n",
            "c:  1e-05 :  f1_score :  0.25301932367149754 accuracy_score :  0.6781945596149781\n"
          ]
        }
      ],
      "source": [
        "from sklearn.linear_model import LogisticRegression\n",
        "from sklearn.metrics import f1_score, accuracy_score\n",
        "\n",
        "\n",
        "for c in [1, 0.1, 0.01, 0.001, 0.0001, 0.00001]:\n",
        "    # use class_weight balanced parameter here, cause of huge class imablance in the dataset\n",
        "    log_reg = LogisticRegression(class_weight='balanced', C = c)\n",
        "    log_reg.fit(X_train, y_train)\n",
        "    y_pred = log_reg.predict(X_val)\n",
        "    print('c: ', c, ': ', 'f1_score : ', f1_score(y_val, y_pred), 'accuracy_score : ', accuracy_score(y_val, y_pred))\n",
        "    "
      ]
    },
    {
      "cell_type": "code",
      "execution_count": 220,
      "metadata": {
        "id": "F8rIntTrZt0Z",
        "outputId": "7e069716-a2f7-4433-b073-53dcbbba8592"
      },
      "outputs": [
        {
          "data": {
            "text/plain": [
              "LogisticRegression(C=0.001, class_weight='balanced')"
            ]
          },
          "execution_count": 220,
          "metadata": {},
          "output_type": "execute_result"
        }
      ],
      "source": [
        "log_reg = LogisticRegression(class_weight='balanced', C = 0.001)\n",
        "log_reg.fit(X_train, y_train)"
      ]
    },
    {
      "cell_type": "markdown",
      "metadata": {
        "id": "QUn8EA7VZt0Z"
      },
      "source": [
        "Un paramètre lambda avec une valeur de 0.001 semble être un bon compromis ici, même si la différence est subtile. "
      ]
    },
    {
      "cell_type": "code",
      "execution_count": 221,
      "metadata": {
        "id": "Ae-LVHj7Zt0Z"
      },
      "outputs": [],
      "source": [
        "train = train.drop('TARGET', axis=1)\n",
        "features = list(train.columns)"
      ]
    },
    {
      "cell_type": "code",
      "execution_count": 222,
      "metadata": {
        "id": "82gH-h7hZt0Z"
      },
      "outputs": [],
      "source": [
        "coef_table = pd.DataFrame(list(features))\n",
        "coef_table.insert(len(coef_table.columns),\"Coefs\",log_reg.coef_.transpose())"
      ]
    },
    {
      "cell_type": "code",
      "execution_count": 223,
      "metadata": {
        "id": "mNXT6ZfaZt0Z",
        "outputId": "c243af24-7bbf-4e40-c083-618b133e1045"
      },
      "outputs": [
        {
          "data": {
            "text/html": [
              "<div>\n",
              "<style scoped>\n",
              "    .dataframe tbody tr th:only-of-type {\n",
              "        vertical-align: middle;\n",
              "    }\n",
              "\n",
              "    .dataframe tbody tr th {\n",
              "        vertical-align: top;\n",
              "    }\n",
              "\n",
              "    .dataframe thead th {\n",
              "        text-align: right;\n",
              "    }\n",
              "</style>\n",
              "<table border=\"1\" class=\"dataframe\">\n",
              "  <thead>\n",
              "    <tr style=\"text-align: right;\">\n",
              "      <th></th>\n",
              "      <th>0</th>\n",
              "      <th>Coefs</th>\n",
              "    </tr>\n",
              "  </thead>\n",
              "  <tbody>\n",
              "    <tr>\n",
              "      <th>33</th>\n",
              "      <td>EXT_SOURCE_3</td>\n",
              "      <td>-0.469033</td>\n",
              "    </tr>\n",
              "    <tr>\n",
              "      <th>32</th>\n",
              "      <td>EXT_SOURCE_2</td>\n",
              "      <td>-0.383156</td>\n",
              "    </tr>\n",
              "    <tr>\n",
              "      <th>8</th>\n",
              "      <td>AMT_GOODS_PRICE</td>\n",
              "      <td>-0.365982</td>\n",
              "    </tr>\n",
              "    <tr>\n",
              "      <th>31</th>\n",
              "      <td>EXT_SOURCE_1</td>\n",
              "      <td>-0.177628</td>\n",
              "    </tr>\n",
              "    <tr>\n",
              "      <th>2</th>\n",
              "      <td>FLAG_OWN_CAR</td>\n",
              "      <td>-0.132293</td>\n",
              "    </tr>\n",
              "    <tr>\n",
              "      <th>...</th>\n",
              "      <td>...</td>\n",
              "      <td>...</td>\n",
              "    </tr>\n",
              "    <tr>\n",
              "      <th>7</th>\n",
              "      <td>AMT_ANNUITY</td>\n",
              "      <td>0.102132</td>\n",
              "    </tr>\n",
              "    <tr>\n",
              "      <th>23</th>\n",
              "      <td>REGION_RATING_CLIENT_W_CITY</td>\n",
              "      <td>0.106640</td>\n",
              "    </tr>\n",
              "    <tr>\n",
              "      <th>83</th>\n",
              "      <td>FLAG_DOCUMENT_3</td>\n",
              "      <td>0.113146</td>\n",
              "    </tr>\n",
              "    <tr>\n",
              "      <th>11</th>\n",
              "      <td>DAYS_EMPLOYED</td>\n",
              "      <td>0.139318</td>\n",
              "    </tr>\n",
              "    <tr>\n",
              "      <th>6</th>\n",
              "      <td>AMT_CREDIT</td>\n",
              "      <td>0.322093</td>\n",
              "    </tr>\n",
              "  </tbody>\n",
              "</table>\n",
              "<p>240 rows × 2 columns</p>\n",
              "</div>"
            ],
            "text/plain": [
              "                              0     Coefs\n",
              "33                 EXT_SOURCE_3 -0.469033\n",
              "32                 EXT_SOURCE_2 -0.383156\n",
              "8               AMT_GOODS_PRICE -0.365982\n",
              "31                 EXT_SOURCE_1 -0.177628\n",
              "2                  FLAG_OWN_CAR -0.132293\n",
              "..                          ...       ...\n",
              "7                   AMT_ANNUITY  0.102132\n",
              "23  REGION_RATING_CLIENT_W_CITY  0.106640\n",
              "83              FLAG_DOCUMENT_3  0.113146\n",
              "11                DAYS_EMPLOYED  0.139318\n",
              "6                    AMT_CREDIT  0.322093\n",
              "\n",
              "[240 rows x 2 columns]"
            ]
          },
          "execution_count": 223,
          "metadata": {},
          "output_type": "execute_result"
        }
      ],
      "source": [
        "coef_table.sort_values(by=['Coefs'])"
      ]
    },
    {
      "cell_type": "markdown",
      "metadata": {
        "id": "RYa0Hy0eZt0Z"
      },
      "source": [
        "Il nous faudrait inspecter les p-values, mais l'on constate tout de un réel importance des features AMT_GOODS_PRICE EXT_SOURCE_3, EXT_SOURCE_2 et AMT_CREDIT pour le modèle.\n",
        "\n",
        "\n",
        "### Les features enrichies\n",
        "\n",
        "Voyons maintenant l'impact des variables métiers."
      ]
    },
    {
      "cell_type": "code",
      "execution_count": 224,
      "metadata": {
        "id": "Suh64CBTZt0Z",
        "outputId": "b478c3d8-603e-4938-9c4e-d0ae5623becf"
      },
      "outputs": [
        {
          "name": "stdout",
          "output_type": "stream",
          "text": [
            "(246008, 244)\n",
            "(61503, 244)\n",
            "(48744, 244)\n"
          ]
        }
      ],
      "source": [
        "from sklearn.preprocessing import StandardScaler\n",
        "from sklearn.impute import SimpleImputer\n",
        "\n",
        "\n",
        "# useful later\n",
        "y_train_enrich = train_enrich.TARGET # y_train\n",
        "y_val_enrich = val_enrich.TARGET # y_test\n",
        "X_train_enrich = train_enrich.drop('TARGET', axis=1) # X_train\n",
        "X_val_enrich = val_enrich.drop('TARGET', axis=1) # X_test\n",
        "features = list(X_train_enrich.columns)\n",
        " \n",
        "# imputation naive  \n",
        "imputer = SimpleImputer(strategy = 'median')\n",
        "imputer.fit(X_train_enrich) \n",
        "X_train_enrich = imputer.transform(X_train_enrich)\n",
        "X_val_enrich = imputer.transform(X_val_enrich)\n",
        "test_enrich = imputer.transform(test_enrich)\n",
        " \n",
        "# scaling\n",
        "scaler = StandardScaler()\n",
        "scaler.fit(X_val_enrich)\n",
        "X_train_enrich = scaler.transform(X_train_enrich) # X_train\n",
        "X_val_enrich = scaler.transform(X_val_enrich) # X_test\n",
        "test_enrich = scaler.transform(test_enrich) # test\n",
        "\n",
        "print(X_train_enrich.shape)\n",
        "print(X_val_enrich.shape)\n",
        "print(test_enrich.shape)  # test = pd.read_csv('..\\\\data\\\\application_test.csv')"
      ]
    },
    {
      "cell_type": "code",
      "execution_count": 225,
      "metadata": {
        "id": "YMwh-LEGZt0Z",
        "outputId": "c7881266-b4f9-442c-a4d6-51b70aaffb36"
      },
      "outputs": [
        {
          "name": "stdout",
          "output_type": "stream",
          "text": [
            "c:  1 :  f1_score :  0.262589368977308 accuracy_score :  0.691429686356763\n",
            "c:  0.1 :  f1_score :  0.2623816177612172 accuracy_score :  0.6910069427507601\n",
            "c:  0.01 :  f1_score :  0.26220080820640346 accuracy_score :  0.6912670926621466\n",
            "c:  0.001 :  f1_score :  0.2624353439894217 accuracy_score :  0.6916410581597645\n",
            "new best accuracy_score value : 0.6916410581597645=> c = 0.001\n",
            "c:  0.0001 :  f1_score :  0.2602585504095656 accuracy_score :  0.6901777149082159\n",
            "c:  1e-05 :  f1_score :  0.2526942497550682 accuracy_score :  0.677544184836512\n",
            "Best f1_score value : 0.262589368977308-=> c = 1\n",
            "Best accuracy_score value : 0.6916410581597645=> c = 0.001\n"
          ]
        }
      ],
      "source": [
        "log_reg = LogisticRegression(class_weight='balanced', C=1)\n",
        "log_reg.fit(X_train_enrich, y_train_enrich) # X_train, y_train\n",
        "y_pred = log_reg.predict(X_val_enrich) # X_test\n",
        "a = f1_score(y_val_enrich, y_pred) # y_test, y_pred\n",
        "b = accuracy_score(y_val_enrich, y_pred) # y_test, y_pred\n",
        "bestc1 = 1\n",
        "bestc2 = 1\n",
        "\n",
        "for c in [1, 0.1, 0.01, 0.001, 0.0001, 0.00001]:\n",
        "    # use class_weight balanced parameter here, cause of huge class imablance in the dataset\n",
        "    log_reg = LogisticRegression(class_weight='balanced', C=c)\n",
        "    log_reg.fit(X_train_enrich, y_train_enrich)\n",
        "    y_pred = log_reg.predict(X_val_enrich)\n",
        "    print('c: ', c, ': ', 'f1_score : ', f1_score(y_val_enrich, y_pred), 'accuracy_score : ', accuracy_score(y_val_enrich, y_pred))\n",
        "\n",
        "    if a < f1_score(y_val_enrich, y_pred) :\n",
        "        a = f1_score(y_val_enrich, y_pred)\n",
        "        bestc1 = c\n",
        "        print('new best f1_score value : '+str(a) + \"=> c = \"+str(bestc1))\n",
        "\n",
        "    if b < accuracy_score(y_val_enrich, y_pred) : \n",
        "        b = accuracy_score(y_val_enrich, y_pred)\n",
        "        bestc2 = c\n",
        "        print('new best accuracy_score value : '+str(b) + \"=> c = \"+str(bestc2))\n",
        "\n",
        "print('Best f1_score value : '+str(a) + \"-=> c = \"+str(bestc1))\n",
        "print('Best accuracy_score value : '+str(b) + \"=> c = \"+str(bestc2))"
      ]
    },
    {
      "cell_type": "code",
      "execution_count": 227,
      "metadata": {},
      "outputs": [
        {
          "name": "stdout",
          "output_type": "stream",
          "text": [
            "(246008, 245)\n",
            "(246008, 244)\n",
            "(246008, 1)\n",
            "(61503, 245)\n",
            "(61503, 244)\n",
            "(61503, 1)\n"
          ]
        }
      ],
      "source": [
        "print(train_enrich.shape) # train\n",
        "print(X_train_enrich.shape) # X_train\n",
        "print(y_train_enrich.values.reshape(y_train_enrich.shape[0], 1).shape) # y_train\n",
        "\n",
        "print(val_enrich.shape) # test\n",
        "print(X_val_enrich.shape) # X_test\n",
        "print(y_val_enrich.values.reshape(y_val_enrich.shape[0], 1).shape) # y_test"
      ]
    },
    {
      "cell_type": "code",
      "execution_count": 228,
      "metadata": {},
      "outputs": [
        {
          "name": "stdout",
          "output_type": "stream",
          "text": [
            "(61503, 1)\n"
          ]
        }
      ],
      "source": [
        "log_reg = LogisticRegression(class_weight='balanced', C=0.001)\n",
        "log_reg.fit(X_train_enrich, y_train_enrich)\n",
        "y_pred = log_reg.predict(X_val_enrich) # y_pred = log_reg.predict(X_test)\n",
        "\n",
        "print(y_pred.reshape(y_pred.shape[0], 1).shape)"
      ]
    },
    {
      "cell_type": "code",
      "execution_count": 245,
      "metadata": {},
      "outputs": [],
      "source": [
        "# Create the dataframe from numpy.ndarray\n",
        "X_val_enrich = val_enrich.drop('TARGET', axis=1) # X_test\n",
        "features = list(X_val_enrich.columns)\n",
        "\n",
        "X_val_enrich_df = pd.DataFrame(X_val_enrich, columns=features)\n",
        "y_val_enrich_df = pd.DataFrame(y_val_enrich, columns=['y_test'])\n",
        "y_pred_df = pd.DataFrame(y_pred, columns=['y_pred'])\n",
        "\n",
        "# # Add y_test & y_pred columns to the X_test dataset\n",
        "test_df = X_val_enrich_df.join(y_val_enrich_df).join(y_pred_df)\n",
        "\n",
        "URL = r'..\\\\data\\\\final_test_df.csv'\n",
        "test_df.to_csv(URL, sep=\";\", index=False, header=True)"
      ]
    },
    {
      "cell_type": "markdown",
      "metadata": {
        "id": "ZMADVtN8Zt0Z"
      },
      "source": [
        "On constate une légère amélioration dans les deux métriques avec les variables métiers."
      ]
    },
    {
      "cell_type": "markdown",
      "metadata": {
        "_cell_guid": "d12452cd-347e-4269-b3d4-f5f0589f4c5c",
        "_uuid": "a8bc307f9be27bfabbc3891deddbd94293ca03fa",
        "id": "xZp2ruRtZt0Z"
      },
      "source": [
        "# LGBM\n",
        "\n",
        "Le Gradient Boosting Machine est un type de modèle plus complexe qui est acutellement l'état de l'art sur des jeux de données tabulaires.  "
      ]
    },
    {
      "cell_type": "code",
      "execution_count": null,
      "metadata": {
        "_cell_guid": "60208a3f-947f-42d9-8f46-2159afd2eb7d",
        "_uuid": "2719663ed461422fce26b5dd55a31ab9718df47a",
        "collapsed": true,
        "id": "Rjm5PPgNZt0Z",
        "outputId": "3fdf028d-1f41-44ec-9b05-25ec84f342bb"
      },
      "outputs": [
        {
          "name": "stdout",
          "output_type": "stream",
          "text": [
            "[200]\ttrain's auc: 0.796072\ttrain's binary_logloss: 0.550589\tvalid's auc: 0.760244\tvalid's binary_logloss: 0.563353\n",
            "[400]\ttrain's auc: 0.825529\ttrain's binary_logloss: 0.521816\tvalid's auc: 0.75987\tvalid's binary_logloss: 0.546027\n",
            "[600]\ttrain's auc: 0.84943\ttrain's binary_logloss: 0.497085\tvalid's auc: 0.759491\tvalid's binary_logloss: 0.530512\n"
          ]
        }
      ],
      "source": [
        "from sklearn.metrics import roc_auc_score\n",
        "import lightgbm as lgb\n",
        "\n",
        "\n",
        "# Create the model\n",
        "model = lgb.LGBMClassifier(n_estimators=10000, objective = 'binary', \n",
        "                            class_weight = 'balanced', learning_rate = 0.05, \n",
        "                            reg_alpha = 0.1, reg_lambda = 0.1, \n",
        "                            subsample = 0.8, n_jobs = -1, random_state = 50)\n",
        "\n",
        "# Train the model\n",
        "model.fit(X_train, y_train, eval_metric = 'auc',\n",
        "            eval_set = [(X_val, y_val), (X_train, y_train)],\n",
        "            eval_names = ['valid', 'train'],\n",
        "            early_stopping_rounds = 500, verbose = 200)\n",
        "\n",
        "best_model = model.best_iteration_\n"
      ]
    },
    {
      "cell_type": "code",
      "execution_count": null,
      "metadata": {
        "id": "pHXh60yJZt0a",
        "outputId": "e063b6ae-fc27-48e2-b645-d98c19bd7697"
      },
      "outputs": [
        {
          "name": "stdout",
          "output_type": "stream",
          "text": [
            "f1_score:  0.27392887834022184 accuracy_score:  0.7115100076419036\n"
          ]
        }
      ],
      "source": [
        "# get preds \n",
        "y_pred = model.predict(X_val, num_iteration = best_model)\n",
        "\n",
        "# get score\n",
        "from sklearn.metrics import f1_score, accuracy_score\n",
        "print('f1_score: ', f1_score(y_val, y_pred), 'accuracy_score: ', accuracy_score(y_val, y_pred))"
      ]
    },
    {
      "cell_type": "markdown",
      "metadata": {
        "id": "PZOKMMLmZt0a"
      },
      "source": [
        "### Avec les features enrichies"
      ]
    },
    {
      "cell_type": "code",
      "execution_count": null,
      "metadata": {
        "id": "4vwRz5A9Zt0a",
        "outputId": "10be0487-1e67-415c-fb6a-133d52f26031"
      },
      "outputs": [
        {
          "name": "stdout",
          "output_type": "stream",
          "text": [
            "[200]\ttrain's auc: 0.802195\ttrain's binary_logloss: 0.544287\tvalid's auc: 0.767622\tvalid's binary_logloss: 0.557355\n",
            "[400]\ttrain's auc: 0.832347\ttrain's binary_logloss: 0.513723\tvalid's auc: 0.76885\tvalid's binary_logloss: 0.538206\n",
            "[600]\ttrain's auc: 0.856533\ttrain's binary_logloss: 0.488071\tvalid's auc: 0.768564\tvalid's binary_logloss: 0.522071\n",
            "[800]\ttrain's auc: 0.876662\ttrain's binary_logloss: 0.46522\tvalid's auc: 0.768024\tvalid's binary_logloss: 0.507704\n"
          ]
        }
      ],
      "source": [
        "# Train the model\n",
        "model.fit(X_train_enrich, y_train, eval_metric = 'auc',\n",
        "            eval_set = [(X_val_enrich, y_val), (X_train_enrich, y_train)],\n",
        "            eval_names = ['valid', 'train'],\n",
        "            early_stopping_rounds = 500, verbose = 200)\n",
        "\n",
        "best_model = model.best_iteration_\n"
      ]
    },
    {
      "cell_type": "code",
      "execution_count": null,
      "metadata": {
        "id": "eTH5N41TZt0a",
        "outputId": "23eebccf-318c-460f-b8a8-727318199119"
      },
      "outputs": [
        {
          "name": "stdout",
          "output_type": "stream",
          "text": [
            "f1_score:  0.2828162291169451 accuracy_score:  0.7263873306993155\n"
          ]
        }
      ],
      "source": [
        "# get preds \n",
        "y_pred = model.predict(X_val_enrich, num_iteration = best_model)\n",
        "\n",
        "# get score\n",
        "from sklearn.metrics import f1_score, accuracy_score\n",
        "print('f1_score: ', f1_score(y_val, y_pred), 'accuracy_score: ', accuracy_score(y_val, y_pred))"
      ]
    },
    {
      "cell_type": "markdown",
      "metadata": {
        "id": "mMlglCZ2Zt0a"
      },
      "source": [
        "Ici, on constate que LGBM est clairement a même d'apporter des améliorations nettes en terme de performance. Un fois encore les features métiers montrent bien la force de la connaissance du domaine dans l'amélioration des résultats."
      ]
    },
    {
      "cell_type": "markdown",
      "metadata": {
        "id": "kGcVcafFZt0a"
      },
      "source": [
        "### Feature Importances"
      ]
    },
    {
      "cell_type": "code",
      "execution_count": null,
      "metadata": {
        "_cell_guid": "a90e9368-5f7d-4179-a5cc-1025f32c6a81",
        "_uuid": "b912337a5f35f495398d8ae8b8576ceb7062fe50",
        "collapsed": true,
        "id": "f1nZeuuMZt0a",
        "outputId": "5f970852-12e8-4d1b-df02-10677af8f71e"
      },
      "outputs": [
        {
          "data": {
            "text/plain": [
              "<AxesSubplot:>"
            ]
          },
          "execution_count": 52,
          "metadata": {},
          "output_type": "execute_result"
        },
        {
          "data": {
            "image/png": "[encoded data removed]",
            "text/plain": [
              "<Figure size 864x1584 with 1 Axes>"
            ]
          },
          "metadata": {
            "needs_background": "light"
          },
          "output_type": "display_data"
        }
      ],
      "source": [
        "feat_importances = pd.Series(model.feature_importances_, index=features)\n",
        "feat_importances.nlargest(30).plot(kind='barh')"
      ]
    },
    {
      "cell_type": "markdown",
      "metadata": {
        "_uuid": "033b8d192a40127ea99d6f4fb13c624dd64c6611",
        "id": "MIBxQMWmZt0a"
      },
      "source": [
        "On constate que les variables CREDIT_TERM, EXT_SOURCE3, EXT_SOURCE2 et EXT_SOURCE... L'age a également un fort impact avec la variable DAYS_BIRTH..."
      ]
    },
    {
      "cell_type": "markdown",
      "metadata": {
        "id": "UpIbigy5Zt0a"
      },
      "source": []
    }
  ],
  "metadata": {
    "colab": {
      "provenance": []
    },
    "kernelspec": {
      "display_name": "Python 3.9.13 ('base')",
      "language": "python",
      "name": "python3"
    },
    "language_info": {
      "codemirror_mode": {
        "name": "ipython",
        "version": 3
      },
      "file_extension": ".py",
      "mimetype": "text/x-python",
      "name": "python",
      "nbconvert_exporter": "python",
      "pygments_lexer": "ipython3",
      "version": "3.9.13"
    },
    "vscode": {
      "interpreter": {
        "hash": "e38bdacfe1d6e2b7e20a64d2eef782d7715e4314dc541be72f500d3c69b94a4f"
      }
    }
  },
  "nbformat": 4,
  "nbformat_minor": 0
}
